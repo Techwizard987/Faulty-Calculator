{
 "cells": [
  {
   "cell_type": "code",
   "execution_count": 1,
   "metadata": {},
   "outputs": [
    {
     "name": "stdout",
     "output_type": "stream",
     "text": [
      "Enter 1st Number\n",
      "45\n",
      " Enter 2nd Number\n",
      "3\n",
      " So what you want?+, -, /%,*\n",
      "*\n",
      "555\n"
     ]
    }
   ],
   "source": [
    "# Design a calculator which will correctly solve all problems except\n",
    "#the following ones:\n",
    "#45*3 = 555, 56 + 9 = 77, 56/6 = 4\n",
    "\n",
    "#Your program should take operator and two numbers a input from the user\n",
    "#and then return the result.\n",
    "\n",
    "print(\"Enter 1st Number\")\n",
    "num1 = int(input())\n",
    "print(\" Enter 2nd Number\") \n",
    "num2 = int(input())\n",
    "print(' So what you want?'+'+, -, /%,*')\n",
    "num3 = input()\n",
    "      \n",
    "if num1 == 45 and num2 ==3 and num3 == '*':\n",
    "      print(\"555\")\n",
    "elif num1 == 56 and num2 == 9 and num3 == '+':\n",
    "      print(\"77\")\n",
    "elif num1 == 56 and num2 == 6 and num3 == '1/':\n",
    "      print(\" 4\")\n",
    "elif num3 == ' *':\n",
    "      num4 = num1*num2\n",
    "      print(num4)\n",
    "elif num3 == '+':\n",
    "      num4 = num1+num2\n",
    "      print(num4)\n",
    "elif num3 == ' /' :\n",
    "      num4 = num1/num2\n",
    "      print(num4)\n",
    "elif num3 == ' - ':\n",
    "      num4 = num1 - num2\n",
    "      print(num4)\n",
    "elif num3 == ' %' :\n",
    "      num4 = num1 % num2\n",
    "      print(num4)\n",
    "else:\n",
    "      print(' Error !! please check your input')\n",
    "      \n",
    "      \n"
   ]
  },
  {
   "cell_type": "code",
   "execution_count": null,
   "metadata": {},
   "outputs": [],
   "source": []
  }
 ],
 "metadata": {
  "kernelspec": {
   "display_name": "Python 3",
   "language": "python",
   "name": "python3"
  },
  "language_info": {
   "codemirror_mode": {
    "name": "ipython",
    "version": 3
   },
   "file_extension": ".py",
   "mimetype": "text/x-python",
   "name": "python",
   "nbconvert_exporter": "python",
   "pygments_lexer": "ipython3",
   "version": "3.8.3"
  }
 },
 "nbformat": 4,
 "nbformat_minor": 4
}
